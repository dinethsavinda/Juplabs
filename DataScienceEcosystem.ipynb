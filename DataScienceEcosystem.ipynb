{
 "cells": [
  {
   "cell_type": "markdown",
   "id": "5685ba4b-7417-413f-92b4-df6477ba1157",
   "metadata": {},
   "source": [
    "# Data Science Tools and Ecosystem"
   ]
  },
  {
   "cell_type": "markdown",
   "id": "ceec0721-8f9f-4ccc-b39b-22f3d1204ecb",
   "metadata": {},
   "source": [
    "In this notebook, Data Science Tools and Ecosystem are summarized.\n"
   ]
  },
  {
   "cell_type": "markdown",
   "id": "2353a5ec-c8ca-4b94-bc05-91e96b0a7a04",
   "metadata": {},
   "source": [
    "**Objectives:**\n",
    "- List popular languages for Data Science\n",
    "- Commonly used libraries by data scientists\n",
    "- Data science tools\n",
    "- Evaluvating arithmatic expressions in python"
   ]
  },
  {
   "cell_type": "markdown",
   "id": "6f95e141-fd70-4b04-b856-a82a19de50c3",
   "metadata": {},
   "source": [
    "**Some of the popular languages that Data Scientists use are:**\n",
    "1. Python\n",
    "2. R\n",
    "3. SQL"
   ]
  },
  {
   "cell_type": "markdown",
   "id": "48ebbd64-3878-4cf9-8a75-64be2cf59441",
   "metadata": {},
   "source": [
    "**Some of the commonly used libraries used by Data Scientists include:**\n",
    "1. Numpy\n",
    "2. Matplotlib\n",
    "3. Pandas"
   ]
  },
  {
   "cell_type": "markdown",
   "id": "ef8617a7-8927-4681-9dab-39ac4ff3e962",
   "metadata": {},
   "source": [
    "|Data Science Tools|\n",
    "|------------------|\n",
    "|Jupyter Notebooks|\n",
    "|Git and Github|\n",
    "|R Studio|"
   ]
  },
  {
   "cell_type": "markdown",
   "id": "56871978-59d7-4e51-a6ed-9e8d99db0fa5",
   "metadata": {},
   "source": [
    "### Below are a few examples of evaluating arithmetic expressions in Python"
   ]
  },
  {
   "cell_type": "markdown",
   "id": "c14df628-6386-44a2-897d-0875b19ab5b2",
   "metadata": {},
   "source": [
    "This a simple arithmetic expression to mutiply then add integers"
   ]
  },
  {
   "cell_type": "code",
   "execution_count": 5,
   "id": "4ffbfa27-c8aa-4d90-8157-bb8437870caa",
   "metadata": {},
   "outputs": [
    {
     "data": {
      "text/plain": [
       "17"
      ]
     },
     "execution_count": 5,
     "metadata": {},
     "output_type": "execute_result"
    }
   ],
   "source": [
    "(3*4)+5"
   ]
  },
  {
   "cell_type": "markdown",
   "id": "d0e3bc5d-ee17-4763-b66d-457ddd34e361",
   "metadata": {},
   "source": [
    "This will convert 200 minutes to hours by diving by 60"
   ]
  },
  {
   "cell_type": "code",
   "execution_count": 7,
   "id": "cbc8f1be-4d88-4ea4-8730-f8a4da43a127",
   "metadata": {},
   "outputs": [
    {
     "name": "stdout",
     "output_type": "stream",
     "text": [
      "3.3333333333333335 Hours\n"
     ]
    }
   ],
   "source": [
    "print(200/60, \"Hours\")"
   ]
  },
  {
   "cell_type": "markdown",
   "id": "5f9ad0df-71a3-47b0-8dc7-c85488aac485",
   "metadata": {},
   "source": [
    "## Author\n",
    "W. A. Dineth Savinda Perera"
   ]
  },
  {
   "cell_type": "code",
   "execution_count": null,
   "id": "1deedba9-6cf8-4034-a7db-0703b97c1db5",
   "metadata": {},
   "outputs": [],
   "source": []
  }
 ],
 "metadata": {
  "kernelspec": {
   "display_name": "Python [conda env:base] *",
   "language": "python",
   "name": "conda-base-py"
  },
  "language_info": {
   "codemirror_mode": {
    "name": "ipython",
    "version": 3
   },
   "file_extension": ".py",
   "mimetype": "text/x-python",
   "name": "python",
   "nbconvert_exporter": "python",
   "pygments_lexer": "ipython3",
   "version": "3.12.7"
  }
 },
 "nbformat": 4,
 "nbformat_minor": 5
}
